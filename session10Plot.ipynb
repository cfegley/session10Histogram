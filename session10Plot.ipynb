{
 "cells": [
  {
   "cell_type": "code",
   "execution_count": 1,
   "id": "68b9cc65",
   "metadata": {},
   "outputs": [],
   "source": [
    "import matplotlib.pyplot as plt\n",
    "import numpy as np"
   ]
  },
  {
   "cell_type": "code",
   "execution_count": 5,
   "id": "1af95b40",
   "metadata": {},
   "outputs": [
    {
     "data": {
      "image/png": "[encoded data removed]",
      "text/plain": [
       "<Figure size 432x288 with 1 Axes>"
      ]
     },
     "metadata": {
      "needs_background": "light"
     },
     "output_type": "display_data"
    }
   ],
   "source": [
    "mu, kappa = 0.0, 4.0\n",
    "\n",
    "n = np.random.vonmises(mu, kappa, 1000)\n",
    "\n",
    "width = 1.0\n",
    "histmin = np.floor(min(n))\n",
    "histmax = np.ceil(max(n))\n",
    "\n",
    "plt.hist(n, bins = 100, alpha = 0.5, edgecolor = \"black\")\n",
    "plt.ylabel(\"N per bin\")\n",
    "plt.xlabel(\"N of bins\")\n",
    "\n",
    "plt.savefig(\"session10histogram.pdf\", bbox_inches = \"tight\", facecolor = \"white\")"
   ]
  },
  {
   "cell_type": "code",
   "execution_count": null,
   "id": "9705f76e",
   "metadata": {},
   "outputs": [],
   "source": []
  }
 ],
 "metadata": {
  "kernelspec": {
   "display_name": "Python 3 (ipykernel)",
   "language": "python",
   "name": "python3"
  },
  "language_info": {
   "codemirror_mode": {
    "name": "ipython",
    "version": 3
   },
   "file_extension": ".py",
   "mimetype": "text/x-python",
   "name": "python",
   "nbconvert_exporter": "python",
   "pygments_lexer": "ipython3",
   "version": "3.10.4"
  }
 },
 "nbformat": 4,
 "nbformat_minor": 5
}
